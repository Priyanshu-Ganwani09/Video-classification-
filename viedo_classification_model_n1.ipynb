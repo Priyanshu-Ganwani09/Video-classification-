{
  "nbformat": 4,
  "nbformat_minor": 0,
  "metadata": {
    "colab": {
      "provenance": [],
      "gpuType": "T4"
    },
    "kernelspec": {
      "name": "python3",
      "display_name": "Python 3"
    },
    "language_info": {
      "name": "python"
    },
    "accelerator": "GPU"
  },
  "cells": [
    {
      "cell_type": "code",
      "source": [
        "!pip install -U \"tensorflow>=2.10.0\""
      ],
      "metadata": {
        "colab": {
          "base_uri": "https://localhost:8080/"
        },
        "id": "DHI9ByS_oepm",
        "outputId": "af3240dc-a9d2-4353-d13d-fc91ab5a5bd7"
      },
      "execution_count": 1,
      "outputs": [
        {
          "output_type": "stream",
          "name": "stdout",
          "text": [
            "Requirement already satisfied: tensorflow>=2.10.0 in /usr/local/lib/python3.10/dist-packages (2.17.1)\n",
            "Collecting tensorflow>=2.10.0\n",
            "  Downloading tensorflow-2.18.0-cp310-cp310-manylinux_2_17_x86_64.manylinux2014_x86_64.whl.metadata (4.1 kB)\n",
            "Requirement already satisfied: absl-py>=1.0.0 in /usr/local/lib/python3.10/dist-packages (from tensorflow>=2.10.0) (1.4.0)\n",
            "Requirement already satisfied: astunparse>=1.6.0 in /usr/local/lib/python3.10/dist-packages (from tensorflow>=2.10.0) (1.6.3)\n",
            "Requirement already satisfied: flatbuffers>=24.3.25 in /usr/local/lib/python3.10/dist-packages (from tensorflow>=2.10.0) (24.3.25)\n",
            "Requirement already satisfied: gast!=0.5.0,!=0.5.1,!=0.5.2,>=0.2.1 in /usr/local/lib/python3.10/dist-packages (from tensorflow>=2.10.0) (0.6.0)\n",
            "Requirement already satisfied: google-pasta>=0.1.1 in /usr/local/lib/python3.10/dist-packages (from tensorflow>=2.10.0) (0.2.0)\n",
            "Requirement already satisfied: libclang>=13.0.0 in /usr/local/lib/python3.10/dist-packages (from tensorflow>=2.10.0) (18.1.1)\n",
            "Requirement already satisfied: opt-einsum>=2.3.2 in /usr/local/lib/python3.10/dist-packages (from tensorflow>=2.10.0) (3.4.0)\n",
            "Requirement already satisfied: packaging in /usr/local/lib/python3.10/dist-packages (from tensorflow>=2.10.0) (24.2)\n",
            "Requirement already satisfied: protobuf!=4.21.0,!=4.21.1,!=4.21.2,!=4.21.3,!=4.21.4,!=4.21.5,<6.0.0dev,>=3.20.3 in /usr/local/lib/python3.10/dist-packages (from tensorflow>=2.10.0) (4.25.5)\n",
            "Requirement already satisfied: requests<3,>=2.21.0 in /usr/local/lib/python3.10/dist-packages (from tensorflow>=2.10.0) (2.32.3)\n",
            "Requirement already satisfied: setuptools in /usr/local/lib/python3.10/dist-packages (from tensorflow>=2.10.0) (75.1.0)\n",
            "Requirement already satisfied: six>=1.12.0 in /usr/local/lib/python3.10/dist-packages (from tensorflow>=2.10.0) (1.17.0)\n",
            "Requirement already satisfied: termcolor>=1.1.0 in /usr/local/lib/python3.10/dist-packages (from tensorflow>=2.10.0) (2.5.0)\n",
            "Requirement already satisfied: typing-extensions>=3.6.6 in /usr/local/lib/python3.10/dist-packages (from tensorflow>=2.10.0) (4.12.2)\n",
            "Requirement already satisfied: wrapt>=1.11.0 in /usr/local/lib/python3.10/dist-packages (from tensorflow>=2.10.0) (1.17.0)\n",
            "Requirement already satisfied: grpcio<2.0,>=1.24.3 in /usr/local/lib/python3.10/dist-packages (from tensorflow>=2.10.0) (1.68.1)\n",
            "Collecting tensorboard<2.19,>=2.18 (from tensorflow>=2.10.0)\n",
            "  Downloading tensorboard-2.18.0-py3-none-any.whl.metadata (1.6 kB)\n",
            "Requirement already satisfied: keras>=3.5.0 in /usr/local/lib/python3.10/dist-packages (from tensorflow>=2.10.0) (3.5.0)\n",
            "Requirement already satisfied: numpy<2.1.0,>=1.26.0 in /usr/local/lib/python3.10/dist-packages (from tensorflow>=2.10.0) (1.26.4)\n",
            "Requirement already satisfied: h5py>=3.11.0 in /usr/local/lib/python3.10/dist-packages (from tensorflow>=2.10.0) (3.12.1)\n",
            "Requirement already satisfied: ml-dtypes<0.5.0,>=0.4.0 in /usr/local/lib/python3.10/dist-packages (from tensorflow>=2.10.0) (0.4.1)\n",
            "Requirement already satisfied: tensorflow-io-gcs-filesystem>=0.23.1 in /usr/local/lib/python3.10/dist-packages (from tensorflow>=2.10.0) (0.37.1)\n",
            "Requirement already satisfied: wheel<1.0,>=0.23.0 in /usr/local/lib/python3.10/dist-packages (from astunparse>=1.6.0->tensorflow>=2.10.0) (0.45.1)\n",
            "Requirement already satisfied: rich in /usr/local/lib/python3.10/dist-packages (from keras>=3.5.0->tensorflow>=2.10.0) (13.9.4)\n",
            "Requirement already satisfied: namex in /usr/local/lib/python3.10/dist-packages (from keras>=3.5.0->tensorflow>=2.10.0) (0.0.8)\n",
            "Requirement already satisfied: optree in /usr/local/lib/python3.10/dist-packages (from keras>=3.5.0->tensorflow>=2.10.0) (0.13.1)\n",
            "Requirement already satisfied: charset-normalizer<4,>=2 in /usr/local/lib/python3.10/dist-packages (from requests<3,>=2.21.0->tensorflow>=2.10.0) (3.4.0)\n",
            "Requirement already satisfied: idna<4,>=2.5 in /usr/local/lib/python3.10/dist-packages (from requests<3,>=2.21.0->tensorflow>=2.10.0) (3.10)\n",
            "Requirement already satisfied: urllib3<3,>=1.21.1 in /usr/local/lib/python3.10/dist-packages (from requests<3,>=2.21.0->tensorflow>=2.10.0) (2.2.3)\n",
            "Requirement already satisfied: certifi>=2017.4.17 in /usr/local/lib/python3.10/dist-packages (from requests<3,>=2.21.0->tensorflow>=2.10.0) (2024.12.14)\n",
            "Requirement already satisfied: markdown>=2.6.8 in /usr/local/lib/python3.10/dist-packages (from tensorboard<2.19,>=2.18->tensorflow>=2.10.0) (3.7)\n",
            "Requirement already satisfied: tensorboard-data-server<0.8.0,>=0.7.0 in /usr/local/lib/python3.10/dist-packages (from tensorboard<2.19,>=2.18->tensorflow>=2.10.0) (0.7.2)\n",
            "Requirement already satisfied: werkzeug>=1.0.1 in /usr/local/lib/python3.10/dist-packages (from tensorboard<2.19,>=2.18->tensorflow>=2.10.0) (3.1.3)\n",
            "Requirement already satisfied: MarkupSafe>=2.1.1 in /usr/local/lib/python3.10/dist-packages (from werkzeug>=1.0.1->tensorboard<2.19,>=2.18->tensorflow>=2.10.0) (3.0.2)\n",
            "Requirement already satisfied: markdown-it-py>=2.2.0 in /usr/local/lib/python3.10/dist-packages (from rich->keras>=3.5.0->tensorflow>=2.10.0) (3.0.0)\n",
            "Requirement already satisfied: pygments<3.0.0,>=2.13.0 in /usr/local/lib/python3.10/dist-packages (from rich->keras>=3.5.0->tensorflow>=2.10.0) (2.18.0)\n",
            "Requirement already satisfied: mdurl~=0.1 in /usr/local/lib/python3.10/dist-packages (from markdown-it-py>=2.2.0->rich->keras>=3.5.0->tensorflow>=2.10.0) (0.1.2)\n",
            "Downloading tensorflow-2.18.0-cp310-cp310-manylinux_2_17_x86_64.manylinux2014_x86_64.whl (615.3 MB)\n",
            "\u001b[2K   \u001b[90m━━━━━━━━━━━━━━━━━━━━━━━━━━━━━━━━━━━━━━━━\u001b[0m \u001b[32m615.3/615.3 MB\u001b[0m \u001b[31m2.0 MB/s\u001b[0m eta \u001b[36m0:00:00\u001b[0m\n",
            "\u001b[?25hDownloading tensorboard-2.18.0-py3-none-any.whl (5.5 MB)\n",
            "\u001b[2K   \u001b[90m━━━━━━━━━━━━━━━━━━━━━━━━━━━━━━━━━━━━━━━━\u001b[0m \u001b[32m5.5/5.5 MB\u001b[0m \u001b[31m25.1 MB/s\u001b[0m eta \u001b[36m0:00:00\u001b[0m\n",
            "\u001b[?25hInstalling collected packages: tensorboard, tensorflow\n",
            "  Attempting uninstall: tensorboard\n",
            "    Found existing installation: tensorboard 2.17.1\n",
            "    Uninstalling tensorboard-2.17.1:\n",
            "      Successfully uninstalled tensorboard-2.17.1\n",
            "  Attempting uninstall: tensorflow\n",
            "    Found existing installation: tensorflow 2.17.1\n",
            "    Uninstalling tensorflow-2.17.1:\n",
            "      Successfully uninstalled tensorflow-2.17.1\n",
            "\u001b[31mERROR: pip's dependency resolver does not currently take into account all the packages that are installed. This behaviour is the source of the following dependency conflicts.\n",
            "tf-keras 2.17.0 requires tensorflow<2.18,>=2.17, but you have tensorflow 2.18.0 which is incompatible.\u001b[0m\u001b[31m\n",
            "\u001b[0mSuccessfully installed tensorboard-2.18.0 tensorflow-2.18.0\n"
          ]
        }
      ]
    },
    {
      "cell_type": "code",
      "source": [
        "!pip install remotezip tqdm opencv-python\n",
        "!pip install -q git+https://github.com/tensorflow/docs"
      ],
      "metadata": {
        "colab": {
          "base_uri": "https://localhost:8080/"
        },
        "id": "KZWmFtX0owZJ",
        "outputId": "e9229c20-4ca7-4745-a44e-989359051763"
      },
      "execution_count": 3,
      "outputs": [
        {
          "output_type": "stream",
          "name": "stdout",
          "text": [
            "Collecting remotezip\n",
            "  Downloading remotezip-0.12.3-py3-none-any.whl.metadata (7.2 kB)\n",
            "Requirement already satisfied: tqdm in /usr/local/lib/python3.10/dist-packages (4.67.1)\n",
            "Requirement already satisfied: opencv-python in /usr/local/lib/python3.10/dist-packages (4.10.0.84)\n",
            "Requirement already satisfied: requests in /usr/local/lib/python3.10/dist-packages (from remotezip) (2.32.3)\n",
            "Requirement already satisfied: numpy>=1.21.2 in /usr/local/lib/python3.10/dist-packages (from opencv-python) (1.26.4)\n",
            "Requirement already satisfied: charset-normalizer<4,>=2 in /usr/local/lib/python3.10/dist-packages (from requests->remotezip) (3.4.0)\n",
            "Requirement already satisfied: idna<4,>=2.5 in /usr/local/lib/python3.10/dist-packages (from requests->remotezip) (3.10)\n",
            "Requirement already satisfied: urllib3<3,>=1.21.1 in /usr/local/lib/python3.10/dist-packages (from requests->remotezip) (2.2.3)\n",
            "Requirement already satisfied: certifi>=2017.4.17 in /usr/local/lib/python3.10/dist-packages (from requests->remotezip) (2024.12.14)\n",
            "Downloading remotezip-0.12.3-py3-none-any.whl (8.1 kB)\n",
            "Installing collected packages: remotezip\n",
            "Successfully installed remotezip-0.12.3\n",
            "  Preparing metadata (setup.py) ... \u001b[?25l\u001b[?25hdone\n",
            "  Building wheel for tensorflow-docs (setup.py) ... \u001b[?25l\u001b[?25hdone\n"
          ]
        }
      ]
    },
    {
      "cell_type": "code",
      "source": [
        "#required libraries to preprocess the dataset\n",
        "import tqdm\n",
        "import random\n",
        "import pathlib\n",
        "import itertools\n",
        "import collections\n",
        "\n",
        "import os\n",
        "import cv2\n",
        "import numpy as np\n",
        "import remotezip as rz\n",
        "\n",
        "import tensorflow as tf\n",
        "import imageio\n",
        "from IPython import display\n",
        "from urllib import request\n",
        "from tensorflow_docs.vis import embed"
      ],
      "metadata": {
        "id": "0_2UOLajo_4u"
      },
      "execution_count": 4,
      "outputs": []
    },
    {
      "cell_type": "code",
      "source": [
        "#ucf dataset url\n",
        "URL = 'https://storage.googleapis.com/thumos14_files/UCF101_videos.zip'"
      ],
      "metadata": {
        "id": "_caVyrGrpUBJ"
      },
      "execution_count": 5,
      "outputs": []
    },
    {
      "cell_type": "code",
      "source": [
        "#function to examin the contain of zip file\n",
        "def list_files_from_zip_url(zip_url):\n",
        "  files = []\n",
        "  with rz.RemoteZip(zip_url) as zip:\n",
        "    for zip_info in zip.infolist():\n",
        "      files.append(zip_info.filename)\n",
        "  return files"
      ],
      "metadata": {
        "id": "FumqpzBZpXw3"
      },
      "execution_count": 6,
      "outputs": []
    },
    {
      "cell_type": "code",
      "source": [
        "#example of the content of zip file\n",
        "files = list_files_from_zip_url(URL)\n",
        "files = [f for f in files if f.endswith('.avi')]\n",
        "files[:10]"
      ],
      "metadata": {
        "colab": {
          "base_uri": "https://localhost:8080/"
        },
        "id": "_mODVMcTplX3",
        "outputId": "f30b9ace-4a91-455f-fa9a-0a89388c7675"
      },
      "execution_count": 7,
      "outputs": [
        {
          "output_type": "execute_result",
          "data": {
            "text/plain": [
              "['UCF101/v_ApplyEyeMakeup_g01_c01.avi',\n",
              " 'UCF101/v_ApplyEyeMakeup_g01_c02.avi',\n",
              " 'UCF101/v_ApplyEyeMakeup_g01_c03.avi',\n",
              " 'UCF101/v_ApplyEyeMakeup_g01_c04.avi',\n",
              " 'UCF101/v_ApplyEyeMakeup_g01_c05.avi',\n",
              " 'UCF101/v_ApplyEyeMakeup_g01_c06.avi',\n",
              " 'UCF101/v_ApplyEyeMakeup_g02_c01.avi',\n",
              " 'UCF101/v_ApplyEyeMakeup_g02_c02.avi',\n",
              " 'UCF101/v_ApplyEyeMakeup_g02_c03.avi',\n",
              " 'UCF101/v_ApplyEyeMakeup_g02_c04.avi']"
            ]
          },
          "metadata": {},
          "execution_count": 7
        }
      ]
    },
    {
      "cell_type": "code",
      "source": [
        "#function to retrieve the class name contain in file itself then creating then the direcotry to store of data of same class\n",
        "\n",
        "def get_class(fname):\n",
        "\n",
        "  return fname.split('_')[-3]\n",
        "\n",
        "def get_files_per_class(files):\n",
        "\n",
        "  files_for_class = collections.defaultdict(list)\n",
        "  for fname in files:\n",
        "    class_name = get_class(fname)\n",
        "    files_for_class[class_name].append(fname)\n",
        "  return files_for_class"
      ],
      "metadata": {
        "id": "4b5sF8nQpoZG"
      },
      "execution_count": 9,
      "outputs": []
    },
    {
      "cell_type": "code",
      "source": [
        "#no of class and video pr class to use\n",
        "NUM_CLASSES = 5\n",
        "FILES_PER_CLASS =60"
      ],
      "metadata": {
        "id": "F4nF3uJCqNmY"
      },
      "execution_count": 10,
      "outputs": []
    },
    {
      "cell_type": "code",
      "source": [
        "files_for_class = get_files_per_class(files)\n",
        "classes = list(files_for_class.keys())"
      ],
      "metadata": {
        "id": "i7_BG9cwqYzu"
      },
      "execution_count": 11,
      "outputs": []
    },
    {
      "cell_type": "code",
      "source": [
        "#information about the dataset\n",
        "print('Num classes:', len(classes))\n",
        "print('Num videos for class[0]:', len(files_for_class[classes[0]]))"
      ],
      "metadata": {
        "colab": {
          "base_uri": "https://localhost:8080/"
        },
        "id": "8gx2IIDaqdhu",
        "outputId": "3735c2b4-5212-45f5-b434-99c200cc48f8"
      },
      "execution_count": 12,
      "outputs": [
        {
          "output_type": "stream",
          "name": "stdout",
          "text": [
            "Num classes: 101\n",
            "Num videos for class[0]: 145\n"
          ]
        }
      ]
    },
    {
      "cell_type": "code",
      "source": [
        "#subset of classes present wthin the dataset\n",
        "def select_subset_of_classes(files_for_class, classes, files_per_class):\n",
        "\n",
        "  files_subset = dict()\n",
        "\n",
        "  for class_name in classes:\n",
        "    class_files = files_for_class[class_name]\n",
        "    files_subset[class_name] = class_files[:files_per_class]\n",
        "\n",
        "  return files_subset"
      ],
      "metadata": {
        "id": "-osajES0qfod"
      },
      "execution_count": 14,
      "outputs": []
    },
    {
      "cell_type": "code",
      "source": [
        "files_subset = select_subset_of_classes(files_for_class, classes[:NUM_CLASSES], FILES_PER_CLASS)\n",
        "list(files_subset.keys())"
      ],
      "metadata": {
        "colab": {
          "base_uri": "https://localhost:8080/"
        },
        "id": "kFDKb6ztqzo1",
        "outputId": "065ddb71-86a0-4c2e-d1b5-c12b2b92848a"
      },
      "execution_count": 15,
      "outputs": [
        {
          "output_type": "execute_result",
          "data": {
            "text/plain": [
              "['ApplyEyeMakeup', 'ApplyLipstick', 'Archery', 'BabyCrawling', 'BalanceBeam']"
            ]
          },
          "metadata": {},
          "execution_count": 15
        }
      ]
    },
    {
      "cell_type": "code",
      "source": [
        "#define the function that divide the data into train,test and valid\n",
        "def download_from_zip(zip_url, to_dir, file_names):\n",
        "\n",
        "  with rz.RemoteZip(zip_url) as zip:\n",
        "    for fn in tqdm.tqdm(file_names):\n",
        "      class_name = get_class(fn)\n",
        "      zip.extract(fn, str(to_dir / class_name))\n",
        "      unzipped_file = to_dir / class_name / fn\n",
        "\n",
        "      fn = pathlib.Path(fn).parts[-1]\n",
        "      output_file = to_dir / class_name / fn\n",
        "      unzipped_file.rename(output_file)"
      ],
      "metadata": {
        "id": "nRUjdfESq1km"
      },
      "execution_count": 16,
      "outputs": []
    },
    {
      "cell_type": "markdown",
      "source": [
        "The following function returns the remaining data that hasn't already been placed into a subset of data. It allows you to place that remaining data in the next specified subset of data."
      ],
      "metadata": {
        "id": "iLUXuP8jrTie"
      }
    },
    {
      "cell_type": "code",
      "source": [
        "def split_class_lists(files_for_class, count):\n",
        "\n",
        "  split_files = []\n",
        "  remainder = {}\n",
        "  for cls in files_for_class:\n",
        "    split_files.extend(files_for_class[cls][:count])\n",
        "    remainder[cls] = files_for_class[cls][count:]\n",
        "  return split_files, remainder"
      ],
      "metadata": {
        "id": "v2UQ_Z-rrArG"
      },
      "execution_count": 17,
      "outputs": []
    },
    {
      "cell_type": "code",
      "source": [
        "def download_ucf_101_subset(zip_url, num_classes, splits, download_dir):\n",
        "\n",
        "  files = list_files_from_zip_url(zip_url)\n",
        "  for f in files:\n",
        "    path = os.path.normpath(f)\n",
        "    tokens = path.split(os.sep)\n",
        "    if len(tokens) <= 2:\n",
        "      files.remove(f) # Remove that item from the list if it does not have a filename\n",
        "\n",
        "  files_for_class = get_files_per_class(files)\n",
        "\n",
        "  classes = list(files_for_class.keys())[:num_classes]\n",
        "\n",
        "  for cls in classes:\n",
        "    random.shuffle(files_for_class[cls])\n",
        "\n",
        "  # Only use the number of classes you want in the dictionary\n",
        "  files_for_class = {x: files_for_class[x] for x in classes}\n",
        "\n",
        "  dirs = {}\n",
        "  for split_name, split_count in splits.items():\n",
        "    print(split_name, \":\")\n",
        "    split_dir = download_dir / split_name\n",
        "    split_files, files_for_class = split_class_lists(files_for_class, split_count)\n",
        "    download_from_zip(zip_url, split_dir, split_files)\n",
        "    dirs[split_name] = split_dir\n",
        "\n",
        "  return dirs"
      ],
      "metadata": {
        "id": "7OnsgFJtrQgw"
      },
      "execution_count": 18,
      "outputs": []
    },
    {
      "cell_type": "code",
      "source": [
        "download_dir = pathlib.Path('./UCF101_subset/')\n",
        "subset_paths = download_ucf_101_subset(URL,\n",
        "                                       num_classes = NUM_CLASSES,\n",
        "                                       splits = {\"train\": 30, \"val\": 10, \"test\": 10},\n",
        "                                       download_dir = download_dir)"
      ],
      "metadata": {
        "colab": {
          "base_uri": "https://localhost:8080/"
        },
        "id": "jsYm2QJdrhNt",
        "outputId": "ef8768a7-4618-440d-c34c-57f780fec545"
      },
      "execution_count": 19,
      "outputs": [
        {
          "output_type": "stream",
          "name": "stdout",
          "text": [
            "train :\n"
          ]
        },
        {
          "output_type": "stream",
          "name": "stderr",
          "text": [
            "100%|██████████| 150/150 [00:09<00:00, 15.03it/s]\n"
          ]
        },
        {
          "output_type": "stream",
          "name": "stdout",
          "text": [
            "val :\n"
          ]
        },
        {
          "output_type": "stream",
          "name": "stderr",
          "text": [
            "100%|██████████| 50/50 [00:02<00:00, 17.86it/s]\n"
          ]
        },
        {
          "output_type": "stream",
          "name": "stdout",
          "text": [
            "test :\n"
          ]
        },
        {
          "output_type": "stream",
          "name": "stderr",
          "text": [
            "100%|██████████| 50/50 [00:02<00:00, 17.21it/s]\n"
          ]
        }
      ]
    },
    {
      "cell_type": "code",
      "source": [
        "#info of train,test and val dataset\n",
        "video_count_train = len(list(download_dir.glob('train/*/*.avi')))\n",
        "video_count_val = len(list(download_dir.glob('val/*/*.avi')))\n",
        "video_count_test = len(list(download_dir.glob('test/*/*.avi')))\n",
        "video_total = video_count_train + video_count_val + video_count_test\n",
        "print(f\"Total videos: {video_total}\")"
      ],
      "metadata": {
        "colab": {
          "base_uri": "https://localhost:8080/"
        },
        "id": "9slWN1ANrrZV",
        "outputId": "eefc740f-8523-443c-f18a-2fe28daff643"
      },
      "execution_count": 20,
      "outputs": [
        {
          "output_type": "stream",
          "name": "stdout",
          "text": [
            "Total videos: 250\n"
          ]
        }
      ]
    },
    {
      "cell_type": "code",
      "source": [
        "!find ./UCF101_subset"
      ],
      "metadata": {
        "colab": {
          "base_uri": "https://localhost:8080/"
        },
        "id": "A3ew-VjHsfzM",
        "outputId": "1ae78afc-35e4-4fc2-955b-c556ddef3296"
      },
      "execution_count": 21,
      "outputs": [
        {
          "output_type": "stream",
          "name": "stdout",
          "text": [
            "./UCF101_subset\n",
            "./UCF101_subset/test\n",
            "./UCF101_subset/test/ApplyLipstick\n",
            "./UCF101_subset/test/ApplyLipstick/v_ApplyLipstick_g01_c04.avi\n",
            "./UCF101_subset/test/ApplyLipstick/v_ApplyLipstick_g25_c02.avi\n",
            "./UCF101_subset/test/ApplyLipstick/v_ApplyLipstick_g06_c05.avi\n",
            "./UCF101_subset/test/ApplyLipstick/v_ApplyLipstick_g21_c01.avi\n",
            "./UCF101_subset/test/ApplyLipstick/v_ApplyLipstick_g09_c02.avi\n",
            "./UCF101_subset/test/ApplyLipstick/v_ApplyLipstick_g15_c05.avi\n",
            "./UCF101_subset/test/ApplyLipstick/v_ApplyLipstick_g22_c02.avi\n",
            "./UCF101_subset/test/ApplyLipstick/UCF101\n",
            "./UCF101_subset/test/ApplyLipstick/v_ApplyLipstick_g02_c03.avi\n",
            "./UCF101_subset/test/ApplyLipstick/v_ApplyLipstick_g18_c04.avi\n",
            "./UCF101_subset/test/ApplyLipstick/v_ApplyLipstick_g14_c01.avi\n",
            "./UCF101_subset/test/BalanceBeam\n",
            "./UCF101_subset/test/BalanceBeam/v_BalanceBeam_g17_c05.avi\n",
            "./UCF101_subset/test/BalanceBeam/v_BalanceBeam_g05_c01.avi\n",
            "./UCF101_subset/test/BalanceBeam/v_BalanceBeam_g22_c02.avi\n",
            "./UCF101_subset/test/BalanceBeam/v_BalanceBeam_g06_c05.avi\n",
            "./UCF101_subset/test/BalanceBeam/v_BalanceBeam_g24_c03.avi\n",
            "./UCF101_subset/test/BalanceBeam/v_BalanceBeam_g23_c04.avi\n",
            "./UCF101_subset/test/BalanceBeam/v_BalanceBeam_g01_c01.avi\n",
            "./UCF101_subset/test/BalanceBeam/v_BalanceBeam_g16_c01.avi\n",
            "./UCF101_subset/test/BalanceBeam/UCF101\n",
            "./UCF101_subset/test/BalanceBeam/v_BalanceBeam_g01_c03.avi\n",
            "./UCF101_subset/test/BalanceBeam/v_BalanceBeam_g02_c03.avi\n",
            "./UCF101_subset/test/BabyCrawling\n",
            "./UCF101_subset/test/BabyCrawling/v_BabyCrawling_g12_c03.avi\n",
            "./UCF101_subset/test/BabyCrawling/v_BabyCrawling_g03_c01.avi\n",
            "./UCF101_subset/test/BabyCrawling/v_BabyCrawling_g20_c03.avi\n",
            "./UCF101_subset/test/BabyCrawling/v_BabyCrawling_g25_c03.avi\n",
            "./UCF101_subset/test/BabyCrawling/v_BabyCrawling_g05_c03.avi\n",
            "./UCF101_subset/test/BabyCrawling/v_BabyCrawling_g12_c05.avi\n",
            "./UCF101_subset/test/BabyCrawling/v_BabyCrawling_g16_c05.avi\n",
            "./UCF101_subset/test/BabyCrawling/UCF101\n",
            "./UCF101_subset/test/BabyCrawling/v_BabyCrawling_g18_c04.avi\n",
            "./UCF101_subset/test/BabyCrawling/v_BabyCrawling_g10_c02.avi\n",
            "./UCF101_subset/test/BabyCrawling/v_BabyCrawling_g10_c04.avi\n",
            "./UCF101_subset/test/Archery\n",
            "./UCF101_subset/test/Archery/v_Archery_g06_c01.avi\n",
            "./UCF101_subset/test/Archery/v_Archery_g21_c02.avi\n",
            "./UCF101_subset/test/Archery/v_Archery_g10_c07.avi\n",
            "./UCF101_subset/test/Archery/v_Archery_g22_c02.avi\n",
            "./UCF101_subset/test/Archery/v_Archery_g25_c02.avi\n",
            "./UCF101_subset/test/Archery/v_Archery_g23_c07.avi\n",
            "./UCF101_subset/test/Archery/v_Archery_g06_c05.avi\n",
            "./UCF101_subset/test/Archery/v_Archery_g04_c03.avi\n",
            "./UCF101_subset/test/Archery/v_Archery_g01_c06.avi\n",
            "./UCF101_subset/test/Archery/UCF101\n",
            "./UCF101_subset/test/Archery/v_Archery_g11_c04.avi\n",
            "./UCF101_subset/test/ApplyEyeMakeup\n",
            "./UCF101_subset/test/ApplyEyeMakeup/v_ApplyEyeMakeup_g03_c05.avi\n",
            "./UCF101_subset/test/ApplyEyeMakeup/v_ApplyEyeMakeup_g20_c02.avi\n",
            "./UCF101_subset/test/ApplyEyeMakeup/v_ApplyEyeMakeup_g25_c05.avi\n",
            "./UCF101_subset/test/ApplyEyeMakeup/v_ApplyEyeMakeup_g02_c01.avi\n",
            "./UCF101_subset/test/ApplyEyeMakeup/v_ApplyEyeMakeup_g09_c04.avi\n",
            "./UCF101_subset/test/ApplyEyeMakeup/v_ApplyEyeMakeup_g02_c03.avi\n",
            "./UCF101_subset/test/ApplyEyeMakeup/v_ApplyEyeMakeup_g06_c03.avi\n",
            "./UCF101_subset/test/ApplyEyeMakeup/v_ApplyEyeMakeup_g16_c05.avi\n",
            "./UCF101_subset/test/ApplyEyeMakeup/UCF101\n",
            "./UCF101_subset/test/ApplyEyeMakeup/v_ApplyEyeMakeup_g06_c07.avi\n",
            "./UCF101_subset/test/ApplyEyeMakeup/v_ApplyEyeMakeup_g15_c06.avi\n",
            "./UCF101_subset/val\n",
            "./UCF101_subset/val/ApplyLipstick\n",
            "./UCF101_subset/val/ApplyLipstick/v_ApplyLipstick_g21_c03.avi\n",
            "./UCF101_subset/val/ApplyLipstick/v_ApplyLipstick_g06_c03.avi\n",
            "./UCF101_subset/val/ApplyLipstick/v_ApplyLipstick_g02_c01.avi\n",
            "./UCF101_subset/val/ApplyLipstick/v_ApplyLipstick_g21_c05.avi\n",
            "./UCF101_subset/val/ApplyLipstick/v_ApplyLipstick_g17_c01.avi\n",
            "./UCF101_subset/val/ApplyLipstick/UCF101\n",
            "./UCF101_subset/val/ApplyLipstick/v_ApplyLipstick_g20_c04.avi\n",
            "./UCF101_subset/val/ApplyLipstick/v_ApplyLipstick_g17_c03.avi\n",
            "./UCF101_subset/val/ApplyLipstick/v_ApplyLipstick_g04_c05.avi\n",
            "./UCF101_subset/val/ApplyLipstick/v_ApplyLipstick_g06_c01.avi\n",
            "./UCF101_subset/val/ApplyLipstick/v_ApplyLipstick_g04_c01.avi\n",
            "./UCF101_subset/val/BalanceBeam\n",
            "./UCF101_subset/val/BalanceBeam/v_BalanceBeam_g22_c04.avi\n",
            "./UCF101_subset/val/BalanceBeam/v_BalanceBeam_g21_c05.avi\n",
            "./UCF101_subset/val/BalanceBeam/v_BalanceBeam_g03_c01.avi\n",
            "./UCF101_subset/val/BalanceBeam/v_BalanceBeam_g21_c03.avi\n",
            "./UCF101_subset/val/BalanceBeam/v_BalanceBeam_g14_c01.avi\n",
            "./UCF101_subset/val/BalanceBeam/UCF101\n",
            "./UCF101_subset/val/BalanceBeam/v_BalanceBeam_g04_c01.avi\n",
            "./UCF101_subset/val/BalanceBeam/v_BalanceBeam_g18_c03.avi\n",
            "./UCF101_subset/val/BalanceBeam/v_BalanceBeam_g09_c04.avi\n",
            "./UCF101_subset/val/BalanceBeam/v_BalanceBeam_g08_c04.avi\n",
            "./UCF101_subset/val/BalanceBeam/v_BalanceBeam_g17_c03.avi\n",
            "./UCF101_subset/val/BabyCrawling\n",
            "./UCF101_subset/val/BabyCrawling/v_BabyCrawling_g06_c02.avi\n",
            "./UCF101_subset/val/BabyCrawling/v_BabyCrawling_g01_c01.avi\n",
            "./UCF101_subset/val/BabyCrawling/v_BabyCrawling_g18_c02.avi\n",
            "./UCF101_subset/val/BabyCrawling/v_BabyCrawling_g05_c05.avi\n",
            "./UCF101_subset/val/BabyCrawling/v_BabyCrawling_g09_c02.avi\n",
            "./UCF101_subset/val/BabyCrawling/v_BabyCrawling_g09_c04.avi\n",
            "./UCF101_subset/val/BabyCrawling/v_BabyCrawling_g15_c05.avi\n",
            "./UCF101_subset/val/BabyCrawling/v_BabyCrawling_g02_c05.avi\n",
            "./UCF101_subset/val/BabyCrawling/v_BabyCrawling_g07_c02.avi\n",
            "./UCF101_subset/val/BabyCrawling/UCF101\n",
            "./UCF101_subset/val/BabyCrawling/v_BabyCrawling_g12_c01.avi\n",
            "./UCF101_subset/val/Archery\n",
            "./UCF101_subset/val/Archery/v_Archery_g16_c03.avi\n",
            "./UCF101_subset/val/Archery/v_Archery_g03_c04.avi\n",
            "./UCF101_subset/val/Archery/v_Archery_g20_c07.avi\n",
            "./UCF101_subset/val/Archery/v_Archery_g20_c03.avi\n",
            "./UCF101_subset/val/Archery/v_Archery_g05_c04.avi\n",
            "./UCF101_subset/val/Archery/UCF101\n",
            "./UCF101_subset/val/Archery/v_Archery_g21_c04.avi\n",
            "./UCF101_subset/val/Archery/v_Archery_g08_c01.avi\n",
            "./UCF101_subset/val/Archery/v_Archery_g13_c01.avi\n",
            "./UCF101_subset/val/Archery/v_Archery_g01_c04.avi\n",
            "./UCF101_subset/val/Archery/v_Archery_g02_c07.avi\n",
            "./UCF101_subset/val/ApplyEyeMakeup\n",
            "./UCF101_subset/val/ApplyEyeMakeup/v_ApplyEyeMakeup_g17_c02.avi\n",
            "./UCF101_subset/val/ApplyEyeMakeup/v_ApplyEyeMakeup_g09_c02.avi\n",
            "./UCF101_subset/val/ApplyEyeMakeup/v_ApplyEyeMakeup_g25_c01.avi\n",
            "./UCF101_subset/val/ApplyEyeMakeup/v_ApplyEyeMakeup_g10_c03.avi\n",
            "./UCF101_subset/val/ApplyEyeMakeup/v_ApplyEyeMakeup_g25_c03.avi\n",
            "./UCF101_subset/val/ApplyEyeMakeup/v_ApplyEyeMakeup_g06_c01.avi\n",
            "./UCF101_subset/val/ApplyEyeMakeup/v_ApplyEyeMakeup_g13_c01.avi\n",
            "./UCF101_subset/val/ApplyEyeMakeup/v_ApplyEyeMakeup_g01_c05.avi\n",
            "./UCF101_subset/val/ApplyEyeMakeup/UCF101\n",
            "./UCF101_subset/val/ApplyEyeMakeup/v_ApplyEyeMakeup_g01_c01.avi\n",
            "./UCF101_subset/val/ApplyEyeMakeup/v_ApplyEyeMakeup_g22_c03.avi\n",
            "./UCF101_subset/train\n",
            "./UCF101_subset/train/ApplyLipstick\n",
            "./UCF101_subset/train/ApplyLipstick/v_ApplyLipstick_g08_c02.avi\n",
            "./UCF101_subset/train/ApplyLipstick/v_ApplyLipstick_g24_c05.avi\n",
            "./UCF101_subset/train/ApplyLipstick/v_ApplyLipstick_g03_c03.avi\n",
            "./UCF101_subset/train/ApplyLipstick/v_ApplyLipstick_g01_c02.avi\n",
            "./UCF101_subset/train/ApplyLipstick/v_ApplyLipstick_g13_c01.avi\n",
            "./UCF101_subset/train/ApplyLipstick/v_ApplyLipstick_g10_c02.avi\n",
            "./UCF101_subset/train/ApplyLipstick/v_ApplyLipstick_g20_c02.avi\n",
            "./UCF101_subset/train/ApplyLipstick/v_ApplyLipstick_g09_c04.avi\n",
            "./UCF101_subset/train/ApplyLipstick/v_ApplyLipstick_g25_c04.avi\n",
            "./UCF101_subset/train/ApplyLipstick/v_ApplyLipstick_g13_c03.avi\n",
            "./UCF101_subset/train/ApplyLipstick/v_ApplyLipstick_g14_c03.avi\n",
            "./UCF101_subset/train/ApplyLipstick/v_ApplyLipstick_g18_c02.avi\n",
            "./UCF101_subset/train/ApplyLipstick/v_ApplyLipstick_g15_c01.avi\n",
            "./UCF101_subset/train/ApplyLipstick/v_ApplyLipstick_g11_c04.avi\n",
            "./UCF101_subset/train/ApplyLipstick/v_ApplyLipstick_g16_c04.avi\n",
            "./UCF101_subset/train/ApplyLipstick/v_ApplyLipstick_g22_c06.avi\n",
            "./UCF101_subset/train/ApplyLipstick/v_ApplyLipstick_g05_c04.avi\n",
            "./UCF101_subset/train/ApplyLipstick/v_ApplyLipstick_g07_c04.avi\n",
            "./UCF101_subset/train/ApplyLipstick/v_ApplyLipstick_g10_c04.avi\n",
            "./UCF101_subset/train/ApplyLipstick/v_ApplyLipstick_g22_c04.avi\n",
            "./UCF101_subset/train/ApplyLipstick/v_ApplyLipstick_g07_c02.avi\n",
            "./UCF101_subset/train/ApplyLipstick/v_ApplyLipstick_g04_c03.avi\n",
            "./UCF101_subset/train/ApplyLipstick/v_ApplyLipstick_g03_c01.avi\n",
            "./UCF101_subset/train/ApplyLipstick/v_ApplyLipstick_g24_c01.avi\n",
            "./UCF101_subset/train/ApplyLipstick/v_ApplyLipstick_g19_c04.avi\n",
            "./UCF101_subset/train/ApplyLipstick/v_ApplyLipstick_g19_c02.avi\n",
            "./UCF101_subset/train/ApplyLipstick/UCF101\n",
            "./UCF101_subset/train/ApplyLipstick/v_ApplyLipstick_g11_c02.avi\n",
            "./UCF101_subset/train/ApplyLipstick/v_ApplyLipstick_g15_c03.avi\n",
            "./UCF101_subset/train/ApplyLipstick/v_ApplyLipstick_g23_c03.avi\n",
            "./UCF101_subset/train/ApplyLipstick/v_ApplyLipstick_g05_c02.avi\n",
            "./UCF101_subset/train/BalanceBeam\n",
            "./UCF101_subset/train/BalanceBeam/v_BalanceBeam_g25_c01.avi\n",
            "./UCF101_subset/train/BalanceBeam/v_BalanceBeam_g06_c01.avi\n",
            "./UCF101_subset/train/BalanceBeam/v_BalanceBeam_g17_c01.avi\n",
            "./UCF101_subset/train/BalanceBeam/v_BalanceBeam_g15_c03.avi\n",
            "./UCF101_subset/train/BalanceBeam/v_BalanceBeam_g19_c01.avi\n",
            "./UCF101_subset/train/BalanceBeam/v_BalanceBeam_g21_c01.avi\n",
            "./UCF101_subset/train/BalanceBeam/v_BalanceBeam_g15_c01.avi\n",
            "./UCF101_subset/train/BalanceBeam/v_BalanceBeam_g24_c01.avi\n",
            "./UCF101_subset/train/BalanceBeam/v_BalanceBeam_g14_c03.avi\n",
            "./UCF101_subset/train/BalanceBeam/v_BalanceBeam_g13_c04.avi\n",
            "./UCF101_subset/train/BalanceBeam/v_BalanceBeam_g20_c01.avi\n",
            "./UCF101_subset/train/BalanceBeam/v_BalanceBeam_g12_c04.avi\n",
            "./UCF101_subset/train/BalanceBeam/v_BalanceBeam_g11_c02.avi\n",
            "./UCF101_subset/train/BalanceBeam/v_BalanceBeam_g25_c03.avi\n",
            "./UCF101_subset/train/BalanceBeam/v_BalanceBeam_g19_c03.avi\n",
            "./UCF101_subset/train/BalanceBeam/v_BalanceBeam_g10_c04.avi\n",
            "./UCF101_subset/train/BalanceBeam/v_BalanceBeam_g18_c01.avi\n",
            "./UCF101_subset/train/BalanceBeam/v_BalanceBeam_g07_c02.avi\n",
            "./UCF101_subset/train/BalanceBeam/v_BalanceBeam_g16_c03.avi\n",
            "./UCF101_subset/train/BalanceBeam/v_BalanceBeam_g08_c02.avi\n",
            "./UCF101_subset/train/BalanceBeam/v_BalanceBeam_g06_c07.avi\n",
            "./UCF101_subset/train/BalanceBeam/v_BalanceBeam_g06_c03.avi\n",
            "./UCF101_subset/train/BalanceBeam/v_BalanceBeam_g03_c03.avi\n",
            "./UCF101_subset/train/BalanceBeam/v_BalanceBeam_g09_c02.avi\n",
            "./UCF101_subset/train/BalanceBeam/UCF101\n",
            "./UCF101_subset/train/BalanceBeam/v_BalanceBeam_g05_c03.avi\n",
            "./UCF101_subset/train/BalanceBeam/v_BalanceBeam_g04_c03.avi\n",
            "./UCF101_subset/train/BalanceBeam/v_BalanceBeam_g12_c02.avi\n",
            "./UCF101_subset/train/BalanceBeam/v_BalanceBeam_g13_c02.avi\n",
            "./UCF101_subset/train/BalanceBeam/v_BalanceBeam_g20_c03.avi\n",
            "./UCF101_subset/train/BalanceBeam/v_BalanceBeam_g23_c02.avi\n",
            "./UCF101_subset/train/BabyCrawling\n",
            "./UCF101_subset/train/BabyCrawling/v_BabyCrawling_g24_c03.avi\n",
            "./UCF101_subset/train/BabyCrawling/v_BabyCrawling_g02_c01.avi\n",
            "./UCF101_subset/train/BabyCrawling/v_BabyCrawling_g22_c06.avi\n",
            "./UCF101_subset/train/BabyCrawling/v_BabyCrawling_g14_c03.avi\n",
            "./UCF101_subset/train/BabyCrawling/v_BabyCrawling_g08_c04.avi\n",
            "./UCF101_subset/train/BabyCrawling/v_BabyCrawling_g22_c02.avi\n",
            "./UCF101_subset/train/BabyCrawling/v_BabyCrawling_g07_c04.avi\n",
            "./UCF101_subset/train/BabyCrawling/v_BabyCrawling_g16_c03.avi\n",
            "./UCF101_subset/train/BabyCrawling/v_BabyCrawling_g08_c02.avi\n",
            "./UCF101_subset/train/BabyCrawling/v_BabyCrawling_g06_c04.avi\n",
            "./UCF101_subset/train/BabyCrawling/v_BabyCrawling_g09_c06.avi\n",
            "./UCF101_subset/train/BabyCrawling/v_BabyCrawling_g07_c06.avi\n",
            "./UCF101_subset/train/BabyCrawling/v_BabyCrawling_g24_c01.avi\n",
            "./UCF101_subset/train/BabyCrawling/v_BabyCrawling_g14_c01.avi\n",
            "./UCF101_subset/train/BabyCrawling/v_BabyCrawling_g19_c04.avi\n",
            "./UCF101_subset/train/BabyCrawling/v_BabyCrawling_g11_c01.avi\n",
            "./UCF101_subset/train/BabyCrawling/v_BabyCrawling_g17_c05.avi\n",
            "./UCF101_subset/train/BabyCrawling/v_BabyCrawling_g05_c01.avi\n",
            "./UCF101_subset/train/BabyCrawling/v_BabyCrawling_g22_c04.avi\n",
            "./UCF101_subset/train/BabyCrawling/v_BabyCrawling_g13_c05.avi\n",
            "./UCF101_subset/train/BabyCrawling/v_BabyCrawling_g15_c03.avi\n",
            "./UCF101_subset/train/BabyCrawling/v_BabyCrawling_g19_c02.avi\n",
            "./UCF101_subset/train/BabyCrawling/v_BabyCrawling_g03_c03.avi\n",
            "./UCF101_subset/train/BabyCrawling/v_BabyCrawling_g04_c01.avi\n",
            "./UCF101_subset/train/BabyCrawling/UCF101\n",
            "./UCF101_subset/train/BabyCrawling/v_BabyCrawling_g16_c01.avi\n",
            "./UCF101_subset/train/BabyCrawling/v_BabyCrawling_g21_c04.avi\n",
            "./UCF101_subset/train/BabyCrawling/v_BabyCrawling_g25_c01.avi\n",
            "./UCF101_subset/train/BabyCrawling/v_BabyCrawling_g13_c03.avi\n",
            "./UCF101_subset/train/BabyCrawling/v_BabyCrawling_g17_c03.avi\n",
            "./UCF101_subset/train/BabyCrawling/v_BabyCrawling_g18_c06.avi\n",
            "./UCF101_subset/train/Archery\n",
            "./UCF101_subset/train/Archery/v_Archery_g19_c03.avi\n",
            "./UCF101_subset/train/Archery/v_Archery_g04_c05.avi\n",
            "./UCF101_subset/train/Archery/v_Archery_g12_c01.avi\n",
            "./UCF101_subset/train/Archery/v_Archery_g20_c05.avi\n",
            "./UCF101_subset/train/Archery/v_Archery_g15_c02.avi\n",
            "./UCF101_subset/train/Archery/v_Archery_g08_c05.avi\n",
            "./UCF101_subset/train/Archery/v_Archery_g15_c04.avi\n",
            "./UCF101_subset/train/Archery/v_Archery_g13_c03.avi\n",
            "./UCF101_subset/train/Archery/v_Archery_g03_c02.avi\n",
            "./UCF101_subset/train/Archery/v_Archery_g06_c03.avi\n",
            "./UCF101_subset/train/Archery/v_Archery_g23_c01.avi\n",
            "./UCF101_subset/train/Archery/v_Archery_g24_c06.avi\n",
            "./UCF101_subset/train/Archery/v_Archery_g23_c03.avi\n",
            "./UCF101_subset/train/Archery/v_Archery_g13_c07.avi\n",
            "./UCF101_subset/train/Archery/v_Archery_g25_c06.avi\n",
            "./UCF101_subset/train/Archery/v_Archery_g01_c02.avi\n",
            "./UCF101_subset/train/Archery/v_Archery_g17_c02.avi\n",
            "./UCF101_subset/train/Archery/v_Archery_g25_c04.avi\n",
            "./UCF101_subset/train/Archery/v_Archery_g13_c05.avi\n",
            "./UCF101_subset/train/Archery/v_Archery_g09_c04.avi\n",
            "./UCF101_subset/train/Archery/v_Archery_g18_c04.avi\n",
            "./UCF101_subset/train/Archery/v_Archery_g23_c05.avi\n",
            "./UCF101_subset/train/Archery/v_Archery_g02_c01.avi\n",
            "./UCF101_subset/train/Archery/v_Archery_g18_c02.avi\n",
            "./UCF101_subset/train/Archery/UCF101\n",
            "./UCF101_subset/train/Archery/v_Archery_g10_c03.avi\n",
            "./UCF101_subset/train/Archery/v_Archery_g20_c01.avi\n",
            "./UCF101_subset/train/Archery/v_Archery_g10_c01.avi\n",
            "./UCF101_subset/train/Archery/v_Archery_g17_c04.avi\n",
            "./UCF101_subset/train/Archery/v_Archery_g02_c03.avi\n",
            "./UCF101_subset/train/Archery/v_Archery_g24_c02.avi\n",
            "./UCF101_subset/train/ApplyEyeMakeup\n",
            "./UCF101_subset/train/ApplyEyeMakeup/v_ApplyEyeMakeup_g24_c04.avi\n",
            "./UCF101_subset/train/ApplyEyeMakeup/v_ApplyEyeMakeup_g15_c02.avi\n",
            "./UCF101_subset/train/ApplyEyeMakeup/v_ApplyEyeMakeup_g21_c04.avi\n",
            "./UCF101_subset/train/ApplyEyeMakeup/v_ApplyEyeMakeup_g08_c01.avi\n",
            "./UCF101_subset/train/ApplyEyeMakeup/v_ApplyEyeMakeup_g13_c05.avi\n",
            "./UCF101_subset/train/ApplyEyeMakeup/v_ApplyEyeMakeup_g10_c05.avi\n",
            "./UCF101_subset/train/ApplyEyeMakeup/v_ApplyEyeMakeup_g23_c02.avi\n",
            "./UCF101_subset/train/ApplyEyeMakeup/v_ApplyEyeMakeup_g09_c06.avi\n",
            "./UCF101_subset/train/ApplyEyeMakeup/v_ApplyEyeMakeup_g05_c04.avi\n",
            "./UCF101_subset/train/ApplyEyeMakeup/v_ApplyEyeMakeup_g14_c05.avi\n",
            "./UCF101_subset/train/ApplyEyeMakeup/v_ApplyEyeMakeup_g11_c02.avi\n",
            "./UCF101_subset/train/ApplyEyeMakeup/v_ApplyEyeMakeup_g15_c04.avi\n",
            "./UCF101_subset/train/ApplyEyeMakeup/v_ApplyEyeMakeup_g04_c05.avi\n",
            "./UCF101_subset/train/ApplyEyeMakeup/v_ApplyEyeMakeup_g04_c03.avi\n",
            "./UCF101_subset/train/ApplyEyeMakeup/v_ApplyEyeMakeup_g23_c04.avi\n",
            "./UCF101_subset/train/ApplyEyeMakeup/v_ApplyEyeMakeup_g23_c06.avi\n",
            "./UCF101_subset/train/ApplyEyeMakeup/v_ApplyEyeMakeup_g12_c01.avi\n",
            "./UCF101_subset/train/ApplyEyeMakeup/v_ApplyEyeMakeup_g21_c02.avi\n",
            "./UCF101_subset/train/ApplyEyeMakeup/v_ApplyEyeMakeup_g18_c03.avi\n",
            "./UCF101_subset/train/ApplyEyeMakeup/v_ApplyEyeMakeup_g19_c04.avi\n",
            "./UCF101_subset/train/ApplyEyeMakeup/v_ApplyEyeMakeup_g03_c01.avi\n",
            "./UCF101_subset/train/ApplyEyeMakeup/v_ApplyEyeMakeup_g08_c05.avi\n",
            "./UCF101_subset/train/ApplyEyeMakeup/v_ApplyEyeMakeup_g25_c07.avi\n",
            "./UCF101_subset/train/ApplyEyeMakeup/v_ApplyEyeMakeup_g04_c07.avi\n",
            "./UCF101_subset/train/ApplyEyeMakeup/v_ApplyEyeMakeup_g12_c05.avi\n",
            "./UCF101_subset/train/ApplyEyeMakeup/UCF101\n",
            "./UCF101_subset/train/ApplyEyeMakeup/v_ApplyEyeMakeup_g01_c03.avi\n",
            "./UCF101_subset/train/ApplyEyeMakeup/v_ApplyEyeMakeup_g20_c04.avi\n",
            "./UCF101_subset/train/ApplyEyeMakeup/v_ApplyEyeMakeup_g17_c04.avi\n",
            "./UCF101_subset/train/ApplyEyeMakeup/v_ApplyEyeMakeup_g07_c06.avi\n",
            "./UCF101_subset/train/ApplyEyeMakeup/v_ApplyEyeMakeup_g14_c01.avi\n"
          ]
        }
      ]
    },
    {
      "cell_type": "code",
      "source": [
        "#create frames from each viedo(extracting the frames) it will choose randomly choose from frames\n",
        "def format_frames(frame, output_size):\n",
        "\n",
        "  frame = tf.image.convert_image_dtype(frame, tf.float32)\n",
        "  frame = tf.image.resize_with_pad(frame, *output_size)\n",
        "  return frame"
      ],
      "metadata": {
        "id": "bkL-OW-cskV8"
      },
      "execution_count": 22,
      "outputs": []
    },
    {
      "cell_type": "code",
      "source": [
        "def frames_from_video_file(video_path, n_frames, output_size = (224,224), frame_step = 15):\n",
        "\n",
        "  # Read each video frame by frame\n",
        "  result = []\n",
        "  src = cv2.VideoCapture(str(video_path))\n",
        "\n",
        "  video_length = src.get(cv2.CAP_PROP_FRAME_COUNT)\n",
        "\n",
        "  need_length = 1 + (n_frames - 1) * frame_step\n",
        "\n",
        "  if need_length > video_length:\n",
        "    start = 0\n",
        "  else:\n",
        "    max_start = video_length - need_length\n",
        "    start = random.randint(0, max_start + 1)\n",
        "\n",
        "  src.set(cv2.CAP_PROP_POS_FRAMES, start)\n",
        "  # ret is a boolean indicating whether read was successful, frame is the image itself\n",
        "  ret, frame = src.read()\n",
        "  result.append(format_frames(frame, output_size))\n",
        "\n",
        "  for _ in range(n_frames - 1):\n",
        "    for _ in range(frame_step):\n",
        "      ret, frame = src.read()\n",
        "    if ret:\n",
        "      frame = format_frames(frame, output_size)\n",
        "      result.append(frame)\n",
        "    else:\n",
        "      result.append(np.zeros_like(result[0]))\n",
        "  src.release()\n",
        "  result = np.array(result)[..., [2, 1, 0]]\n",
        "\n",
        "  return result"
      ],
      "metadata": {
        "id": "naZmPrY2tEBl"
      },
      "execution_count": 23,
      "outputs": []
    },
    {
      "cell_type": "code",
      "source": [
        "#the FrameGenerator helps in preparing and organizing video data to be easily used by TensorFlow\n",
        "class FrameGenerator:\n",
        "  def __init__(self, path, n_frames, training = False):\n",
        "    \"\"\" Returns a set of frames with their associated label.\n",
        "\n",
        "      Args:\n",
        "        path: Video file paths.\n",
        "        n_frames: Number of frames.\n",
        "        training: Boolean to determine if training dataset is being created.\n",
        "    \"\"\"\n",
        "    self.path = path\n",
        "    self.n_frames = n_frames\n",
        "    self.training = training\n",
        "    self.class_names = sorted(set(p.name for p in self.path.iterdir() if p.is_dir()))\n",
        "    self.class_ids_for_name = dict((name, idx) for idx, name in enumerate(self.class_names))\n",
        "\n",
        "  def get_files_and_class_names(self):\n",
        "    video_paths = list(self.path.glob('*/*.avi'))\n",
        "    classes = [p.parent.name for p in video_paths]\n",
        "    return video_paths, classes\n",
        "\n",
        "  def __call__(self):\n",
        "    video_paths, classes = self.get_files_and_class_names()\n",
        "\n",
        "    pairs = list(zip(video_paths, classes))\n",
        "\n",
        "    if self.training:\n",
        "      random.shuffle(pairs)\n",
        "\n",
        "    for path, name in pairs:\n",
        "      video_frames = frames_from_video_file(path, self.n_frames)\n",
        "      label = self.class_ids_for_name[name] # Encode labels\n",
        "      yield video_frames, label"
      ],
      "metadata": {
        "id": "g26YQeDBthFU"
      },
      "execution_count": 24,
      "outputs": []
    },
    {
      "cell_type": "code",
      "source": [
        "fg = FrameGenerator(subset_paths['train'], 10, training=True)\n",
        "\n",
        "frames, label = next(fg())\n",
        "\n",
        "print(f\"Shape: {frames.shape}\")\n",
        "print(f\"Label: {label}\")"
      ],
      "metadata": {
        "colab": {
          "base_uri": "https://localhost:8080/"
        },
        "id": "FzPlvP-DvlYD",
        "outputId": "5b3ee03f-8a64-4d61-8776-218c1f7bd327"
      },
      "execution_count": 25,
      "outputs": [
        {
          "output_type": "stream",
          "name": "stdout",
          "text": [
            "Shape: (10, 224, 224, 3)\n",
            "Label: 4\n"
          ]
        }
      ]
    },
    {
      "cell_type": "code",
      "source": [
        "# Create the training set\n",
        "output_signature = (tf.TensorSpec(shape = (10,224, 224, 3), dtype = tf.float32),\n",
        "                    tf.TensorSpec(shape = (), dtype = tf.int16))\n",
        "train_ds = tf.data.Dataset.from_generator(FrameGenerator(subset_paths['train'], 10, training=True),\n",
        "                                          output_signature = output_signature)\n",
        "val_ds = tf.data.Dataset.from_generator(FrameGenerator(subset_paths['val'], 10, training=True),\n",
        "                                          output_signature = output_signature)"
      ],
      "metadata": {
        "id": "eDNJdm_ivpai"
      },
      "execution_count": 26,
      "outputs": []
    },
    {
      "cell_type": "code",
      "source": [
        "# Print the shapes of the data\n",
        "train_frames, train_labels = next(iter(train_ds))\n",
        "print(f'Shape of training set of frames: {train_frames.shape}')\n",
        "print(f'Shape of training labels: {train_labels.shape}')\n",
        "\n",
        "val_frames, val_labels = next(iter(val_ds))\n",
        "print(f'Shape of validation set of frames: {val_frames.shape}')\n",
        "print(f'Shape of validation labels: {val_labels.shape}')"
      ],
      "metadata": {
        "colab": {
          "base_uri": "https://localhost:8080/"
        },
        "id": "I2LrsQTzv0Hr",
        "outputId": "d3406a40-7808-4d18-cf86-42b734ca4565"
      },
      "execution_count": 27,
      "outputs": [
        {
          "output_type": "stream",
          "name": "stdout",
          "text": [
            "Shape of training set of frames: (10, 224, 224, 3)\n",
            "Shape of training labels: ()\n",
            "Shape of validation set of frames: (10, 224, 224, 3)\n",
            "Shape of validation labels: ()\n"
          ]
        }
      ]
    },
    {
      "cell_type": "code",
      "source": [
        "for frames, labels in train_ds.take(10):\n",
        "  print(labels)"
      ],
      "metadata": {
        "colab": {
          "base_uri": "https://localhost:8080/"
        },
        "id": "ascLgT6qwA0C",
        "outputId": "ce9867df-b0cd-45ca-b131-af1d4ad7909f"
      },
      "execution_count": 28,
      "outputs": [
        {
          "output_type": "stream",
          "name": "stdout",
          "text": [
            "tf.Tensor(0, shape=(), dtype=int16)\n",
            "tf.Tensor(1, shape=(), dtype=int16)\n",
            "tf.Tensor(2, shape=(), dtype=int16)\n",
            "tf.Tensor(3, shape=(), dtype=int16)\n",
            "tf.Tensor(1, shape=(), dtype=int16)\n",
            "tf.Tensor(4, shape=(), dtype=int16)\n",
            "tf.Tensor(1, shape=(), dtype=int16)\n",
            "tf.Tensor(3, shape=(), dtype=int16)\n",
            "tf.Tensor(2, shape=(), dtype=int16)\n",
            "tf.Tensor(1, shape=(), dtype=int16)\n"
          ]
        }
      ]
    },
    {
      "cell_type": "code",
      "source": [
        "AUTOTUNE = tf.data.AUTOTUNE\n",
        "\n",
        "train_ds = train_ds.cache().shuffle(1000).prefetch(buffer_size = AUTOTUNE)\n",
        "val_ds = val_ds.cache().shuffle(1000).prefetch(buffer_size = AUTOTUNE)"
      ],
      "metadata": {
        "id": "B5NrugRexN0y"
      },
      "execution_count": 29,
      "outputs": []
    },
    {
      "cell_type": "code",
      "source": [
        "train_ds = train_ds.batch(2)\n",
        "val_ds = val_ds.batch(2)\n",
        "\n",
        "train_frames, train_labels = next(iter(train_ds))\n",
        "print(f'Shape of training set of frames: {train_frames.shape}')\n",
        "print(f'Shape of training labels: {train_labels.shape}')\n",
        "\n",
        "val_frames, val_labels = next(iter(val_ds))\n",
        "print(f'Shape of validation set of frames: {val_frames.shape}')\n",
        "print(f'Shape of validation labels: {val_labels.shape}')"
      ],
      "metadata": {
        "colab": {
          "base_uri": "https://localhost:8080/"
        },
        "id": "JggAZ06CxTUa",
        "outputId": "1a628194-7f8e-4f54-c397-4cd32d036144"
      },
      "execution_count": 30,
      "outputs": [
        {
          "output_type": "stream",
          "name": "stdout",
          "text": [
            "Shape of training set of frames: (2, 10, 224, 224, 3)\n",
            "Shape of training labels: (2,)\n",
            "Shape of validation set of frames: (2, 10, 224, 224, 3)\n",
            "Shape of validation labels: (2,)\n"
          ]
        }
      ]
    },
    {
      "cell_type": "markdown",
      "source": [
        "These Classification model that uses a\n",
        "\n",
        "pre-trained EfficientNet trains to high accuracy in a few minutes\n",
        "https://arxiv.org/abs/1905.11946"
      ],
      "metadata": {
        "id": "NulHIYfdx8cX"
      }
    },
    {
      "cell_type": "code",
      "source": [
        "#frames are ready and convert into tensor to feed into the network  with corresponding labels\n",
        "net = tf.keras.applications.EfficientNetB0(include_top = False)\n",
        "net.trainable = False\n",
        "\n",
        "model = tf.keras.Sequential([\n",
        "    tf.keras.layers.Rescaling(255),\n",
        "    tf.keras.layers.TimeDistributed(net),\n",
        "    tf.keras.layers.Dense(10),\n",
        "    tf.keras.layers.GlobalAveragePooling3D()\n",
        "])\n",
        "\n",
        "model.compile(optimizer = 'adam',\n",
        "              loss=tf.keras.losses.SparseCategoricalCrossentropy(from_logits = True),\n",
        "              metrics=['accuracy'])\n",
        "\n",
        "model.fit(train_ds,\n",
        "          epochs = 10,\n",
        "          validation_data = val_ds,\n",
        "          callbacks = tf.keras.callbacks.EarlyStopping(patience = 2, monitor = 'val_loss'))"
      ],
      "metadata": {
        "colab": {
          "base_uri": "https://localhost:8080/"
        },
        "id": "Vr8zJlOPxeZ6",
        "outputId": "888f0619-7dd2-4079-c42b-0e772b4ffa67"
      },
      "execution_count": 31,
      "outputs": [
        {
          "output_type": "stream",
          "name": "stdout",
          "text": [
            "Downloading data from https://storage.googleapis.com/keras-applications/efficientnetb0_notop.h5\n",
            "\u001b[1m16705208/16705208\u001b[0m \u001b[32m━━━━━━━━━━━━━━━━━━━━\u001b[0m\u001b[37m\u001b[0m \u001b[1m0s\u001b[0m 0us/step\n",
            "Epoch 1/10\n",
            "     75/Unknown \u001b[1m173s\u001b[0m 62ms/step - accuracy: 0.5216 - loss: 1.6180"
          ]
        },
        {
          "output_type": "stream",
          "name": "stderr",
          "text": [
            "/usr/lib/python3.10/contextlib.py:153: UserWarning: Your input ran out of data; interrupting training. Make sure that your dataset or generator can generate at least `steps_per_epoch * epochs` batches. You may need to use the `.repeat()` function when building your dataset.\n",
            "  self.gen.throw(typ, value, traceback)\n"
          ]
        },
        {
          "output_type": "stream",
          "name": "stdout",
          "text": [
            "\b\b\b\b\b\b\b\b\b\b\b\b\b\b\b\b\b\b\b\b\b\b\b\b\b\b\b\b\b\b\b\b\b\b\b\b\b\b\b\b\b\b\b\b\b\b\b\b\b\b\b\b\b\b\b\b\b\b\b\b\b\b\b\b\r\u001b[1m75/75\u001b[0m \u001b[32m━━━━━━━━━━━━━━━━━━━━\u001b[0m\u001b[37m\u001b[0m \u001b[1m213s\u001b[0m 596ms/step - accuracy: 0.5236 - loss: 1.6115 - val_accuracy: 0.9200 - val_loss: 0.5074\n",
            "Epoch 2/10\n",
            "\u001b[1m75/75\u001b[0m \u001b[32m━━━━━━━━━━━━━━━━━━━━\u001b[0m\u001b[37m\u001b[0m \u001b[1m35s\u001b[0m 96ms/step - accuracy: 0.9919 - loss: 0.4043 - val_accuracy: 0.9400 - val_loss: 0.3007\n",
            "Epoch 3/10\n",
            "\u001b[1m75/75\u001b[0m \u001b[32m━━━━━━━━━━━━━━━━━━━━\u001b[0m\u001b[37m\u001b[0m \u001b[1m9s\u001b[0m 81ms/step - accuracy: 0.9987 - loss: 0.1849 - val_accuracy: 1.0000 - val_loss: 0.2232\n",
            "Epoch 4/10\n",
            "\u001b[1m75/75\u001b[0m \u001b[32m━━━━━━━━━━━━━━━━━━━━\u001b[0m\u001b[37m\u001b[0m \u001b[1m10s\u001b[0m 80ms/step - accuracy: 1.0000 - loss: 0.1221 - val_accuracy: 1.0000 - val_loss: 0.1827\n",
            "Epoch 5/10\n",
            "\u001b[1m75/75\u001b[0m \u001b[32m━━━━━━━━━━━━━━━━━━━━\u001b[0m\u001b[37m\u001b[0m \u001b[1m6s\u001b[0m 82ms/step - accuracy: 1.0000 - loss: 0.0954 - val_accuracy: 0.9200 - val_loss: 0.1852\n",
            "Epoch 6/10\n",
            "\u001b[1m75/75\u001b[0m \u001b[32m━━━━━━━━━━━━━━━━━━━━\u001b[0m\u001b[37m\u001b[0m \u001b[1m6s\u001b[0m 79ms/step - accuracy: 1.0000 - loss: 0.0736 - val_accuracy: 0.9600 - val_loss: 0.1484\n",
            "Epoch 7/10\n",
            "\u001b[1m75/75\u001b[0m \u001b[32m━━━━━━━━━━━━━━━━━━━━\u001b[0m\u001b[37m\u001b[0m \u001b[1m6s\u001b[0m 82ms/step - accuracy: 1.0000 - loss: 0.0483 - val_accuracy: 0.9200 - val_loss: 0.1646\n",
            "Epoch 8/10\n",
            "\u001b[1m75/75\u001b[0m \u001b[32m━━━━━━━━━━━━━━━━━━━━\u001b[0m\u001b[37m\u001b[0m \u001b[1m10s\u001b[0m 81ms/step - accuracy: 1.0000 - loss: 0.0468 - val_accuracy: 0.9400 - val_loss: 0.1382\n",
            "Epoch 9/10\n",
            "\u001b[1m75/75\u001b[0m \u001b[32m━━━━━━━━━━━━━━━━━━━━\u001b[0m\u001b[37m\u001b[0m \u001b[1m10s\u001b[0m 79ms/step - accuracy: 1.0000 - loss: 0.0392 - val_accuracy: 0.9200 - val_loss: 0.1368\n",
            "Epoch 10/10\n",
            "\u001b[1m75/75\u001b[0m \u001b[32m━━━━━━━━━━━━━━━━━━━━\u001b[0m\u001b[37m\u001b[0m \u001b[1m6s\u001b[0m 84ms/step - accuracy: 1.0000 - loss: 0.0325 - val_accuracy: 0.9600 - val_loss: 0.1159\n"
          ]
        },
        {
          "output_type": "execute_result",
          "data": {
            "text/plain": [
              "<keras.src.callbacks.history.History at 0x7f4094c1d780>"
            ]
          },
          "metadata": {},
          "execution_count": 31
        }
      ]
    },
    {
      "cell_type": "code",
      "source": [
        "#graph for loss and accuracy both valdations\n",
        "\n",
        "import matplotlib.pyplot as plt\n",
        "history = model.history\n",
        "\n",
        "plt.figure(figsize=(10, 5))\n",
        "plt.plot(history.history['loss'], label='Training Loss')\n",
        "plt.plot(history.history['val_loss'], label='Validation Loss')\n",
        "plt.xlabel('Epoch')\n",
        "plt.ylabel('Loss')\n",
        "plt.title('Training and Validation Loss')\n",
        "plt.legend()\n",
        "plt.show()\n",
        "\n",
        "plt.figure(figsize=(10, 5))\n",
        "plt.plot(history.history['accuracy'], label='Training Accuracy')\n",
        "plt.plot(history.history['val_accuracy'], label='Validation Accuracy')\n",
        "plt.xlabel('Epoch')\n",
        "plt.ylabel('Accuracy')\n",
        "plt.title('Training and Validation Accuracy')\n",
        "plt.legend()\n",
        "plt.show()"
      ],
      "metadata": {
        "id": "ySxcT9ZOx0UC",
        "colab": {
          "base_uri": "https://localhost:8080/",
          "height": 957
        },
        "outputId": "d52a4989-e238-431e-9f7e-aaedcf109831"
      },
      "execution_count": 32,
      "outputs": [
        {
          "output_type": "display_data",
          "data": {
            "text/plain": [
              "<Figure size 1000x500 with 1 Axes>"
            ],
            "image/png": "[encoded data removed]"
          },
          "metadata": {}
        },
        {
          "output_type": "display_data",
          "data": {
            "text/plain": [
              "<Figure size 1000x500 with 1 Axes>"
            ],
            "image/png": "[encoded data removed]"
          },
          "metadata": {}
        }
      ]
    },
    {
      "cell_type": "code",
      "source": [
        "# Evaluating  the model on the test dataset\n",
        "test_ds = tf.data.Dataset.from_generator(FrameGenerator(subset_paths['test'], 10, training=False),\n",
        "                                          output_signature = output_signature)\n",
        "test_ds = test_ds.batch(2)\n",
        "\n",
        "loss, accuracy = model.evaluate(test_ds)\n",
        "print(f\"Test Loss: {loss:.4f}\")\n",
        "print(f\"Test Accuracy: {accuracy:.4f}\")\n"
      ],
      "metadata": {
        "colab": {
          "base_uri": "https://localhost:8080/"
        },
        "id": "_QanKErfypz8",
        "outputId": "9280bbc2-a218-4bac-afc6-6c5b6a1ae99c"
      },
      "execution_count": 33,
      "outputs": [
        {
          "output_type": "stream",
          "name": "stdout",
          "text": [
            "\u001b[1m25/25\u001b[0m \u001b[32m━━━━━━━━━━━━━━━━━━━━\u001b[0m\u001b[37m\u001b[0m \u001b[1m8s\u001b[0m 337ms/step - accuracy: 0.8886 - loss: 0.1939\n",
            "Test Loss: 0.1727\n",
            "Test Accuracy: 0.9200\n"
          ]
        }
      ]
    },
    {
      "cell_type": "code",
      "source": [
        "# prompt: generate classification report for the classes\n",
        "\n",
        "import matplotlib.pyplot as plt\n",
        "from sklearn.metrics import classification_report\n",
        "\n",
        "# Assuming 'model' and 'test_ds' are defined as in the previous code\n",
        "\n",
        "# Get predictions for the test dataset\n",
        "y_pred = model.predict(test_ds)\n",
        "y_pred_classes = np.argmax(y_pred, axis=1)\n",
        "\n",
        "# Get true labels from the test dataset\n",
        "y_true = []\n",
        "for _, labels in test_ds:\n",
        "  y_true.extend(labels.numpy())\n",
        "\n",
        "# Generate classification report\n",
        "class_names = sorted(set(p.name for p in subset_paths['train'].iterdir() if p.is_dir())) # Get class names\n",
        "report = classification_report(y_true, y_pred_classes, target_names=class_names)\n",
        "\n",
        "print(report)"
      ],
      "metadata": {
        "colab": {
          "base_uri": "https://localhost:8080/"
        },
        "id": "g0gdK6p_zaEU",
        "outputId": "2de79fe3-9a31-48ce-c032-414bb5191ba3"
      },
      "execution_count": 34,
      "outputs": [
        {
          "output_type": "stream",
          "name": "stdout",
          "text": [
            "\u001b[1m25/25\u001b[0m \u001b[32m━━━━━━━━━━━━━━━━━━━━\u001b[0m\u001b[37m\u001b[0m \u001b[1m43s\u001b[0m 261ms/step\n"
          ]
        },
        {
          "output_type": "stream",
          "name": "stderr",
          "text": [
            "/usr/lib/python3.10/contextlib.py:153: UserWarning: Your input ran out of data; interrupting training. Make sure that your dataset or generator can generate at least `steps_per_epoch * epochs` batches. You may need to use the `.repeat()` function when building your dataset.\n",
            "  self.gen.throw(typ, value, traceback)\n"
          ]
        },
        {
          "output_type": "stream",
          "name": "stdout",
          "text": [
            "                precision    recall  f1-score   support\n",
            "\n",
            "ApplyEyeMakeup       0.82      0.90      0.86        10\n",
            " ApplyLipstick       0.89      0.80      0.84        10\n",
            "       Archery       0.91      1.00      0.95        10\n",
            "  BabyCrawling       1.00      0.90      0.95        10\n",
            "   BalanceBeam       1.00      1.00      1.00        10\n",
            "\n",
            "      accuracy                           0.92        50\n",
            "     macro avg       0.92      0.92      0.92        50\n",
            "  weighted avg       0.92      0.92      0.92        50\n",
            "\n"
          ]
        }
      ]
    },
    {
      "cell_type": "code",
      "source": [
        "# Load the model\n",
        "# Save the model after training\n",
        "model.save('ucf101_model.keras')"
      ],
      "metadata": {
        "id": "Iv1dyQ9BAicl"
      },
      "execution_count": 35,
      "outputs": []
    },
    {
      "cell_type": "code",
      "source": [
        "import warnings\n",
        "warnings.filterwarnings(\"ignore\")"
      ],
      "metadata": {
        "id": "GQkAhqcaEM4T"
      },
      "execution_count": 36,
      "outputs": []
    },
    {
      "cell_type": "code",
      "source": [
        "!pip install -q mediapy\n",
        "\n",
        "import mediapy as media"
      ],
      "metadata": {
        "colab": {
          "base_uri": "https://localhost:8080/"
        },
        "id": "9cyBbmS5EQ1X",
        "outputId": "067c0bbc-de5b-410e-a142-3db4d23d110c"
      },
      "execution_count": 37,
      "outputs": [
        {
          "output_type": "stream",
          "name": "stdout",
          "text": [
            "\u001b[?25l   \u001b[90m━━━━━━━━━━━━━━━━━━━━━━━━━━━━━━━━━━━━━━━━\u001b[0m \u001b[32m0.0/1.6 MB\u001b[0m \u001b[31m?\u001b[0m eta \u001b[36m-:--:--\u001b[0m\r\u001b[2K   \u001b[91m━━━━━━━━━━━━━━━━━━━━━━━━━━━━━━━━━━━━━━━\u001b[0m\u001b[91m╸\u001b[0m \u001b[32m1.6/1.6 MB\u001b[0m \u001b[31m49.7 MB/s\u001b[0m eta \u001b[36m0:00:01\u001b[0m\r\u001b[2K   \u001b[90m━━━━━━━━━━━━━━━━━━━━━━━━━━━━━━━━━━━━━━━━\u001b[0m \u001b[32m1.6/1.6 MB\u001b[0m \u001b[31m34.6 MB/s\u001b[0m eta \u001b[36m0:00:00\u001b[0m\n",
            "\u001b[?25h"
          ]
        }
      ]
    },
    {
      "cell_type": "code",
      "source": [
        "# import numpy as np\n",
        "# import tensorflow as tf\n",
        "# import cv2\n",
        "# import random\n",
        "\n",
        "# # Define a function to extract frames from video\n",
        "# def frames_extraction(video_path, num_frames, output_height, output_width, frame_step=15):\n",
        "#     frames = []\n",
        "#     cap = cv2.VideoCapture(video_path)\n",
        "#     video_length = int(cap.get(cv2.CAP_PROP_FRAME_COUNT))\n",
        "\n",
        "#     # Calculate the required starting frame based on the frame step\n",
        "#     max_start_frame = max(0, video_length - (num_frames - 1) * frame_step)\n",
        "#     start_frame = random.randint(0, max_start_frame)\n",
        "\n",
        "#     cap.set(cv2.CAP_PROP_POS_FRAMES, start_frame)\n",
        "\n",
        "#     for _ in range(num_frames):\n",
        "#         ret, frame = cap.read()\n",
        "#         if ret:\n",
        "#             frame = cv2.resize(frame, (output_width, output_height))\n",
        "#             frames.append(frame)\n",
        "#         else:\n",
        "#             frames.append(np.zeros((output_height, output_width, 3)))  # Placeholder if frame is not available\n",
        "#         cap.set(cv2.CAP_PROP_POS_FRAMES, cap.get(cv2.CAP_PROP_POS_FRAMES) + frame_step - 1)\n",
        "\n",
        "#     cap.release()\n",
        "#     return np.array(frames)\n",
        "\n",
        "# # Load your pre-trained model\n",
        "# base_model = tf.keras.models.load_model('/content/ucf101_model.keras')\n",
        "\n",
        "# # Define the class labels\n",
        "# CLASSES_LIST = ['ApplyLipstick', 'BalanceBeam', 'BabyCrawling', 'Archery', 'ApplyEyeMakeup', 'Class6', 'Class7', 'Class8', 'Class9', 'Class10'] # Updated with placeholder class names\n",
        "\n",
        "# # ... (rest of the code) ...\n",
        "# # Extract frames from the video\n",
        "# video_path = \"/content/End_of_a_jam.ogv\"  # Update with the actual video path\n",
        "# frames = frames_extraction(video_path, num_frames=10, output_height=240, output_width=240)\n",
        "# frames_batch = np.expand_dims(frames, axis=0)  # Shape becomes: (1, 10, 240, 240, 3)\n",
        "\n",
        "# # Make predictions\n",
        "# predictions = base_model.predict(frames_batch)\n",
        "\n",
        "# # Get the predicted class probabilities\n",
        "# predicted_class_probs = predictions[0]\n",
        "\n",
        "# # Get the predicted class\n",
        "# predicted_class = CLASSES_LIST[np.argmax(predictions)]\n",
        "\n",
        "# # Print the predicted class and its probabilities\n",
        "# print(f\"Predicted class: {predicted_class}\")\n",
        "# print(\"Class probabilities:\")\n",
        "# for idx, prob in enumerate(predicted_class_probs):\n",
        "#     print(f\"{CLASSES_LIST[idx]}: {prob*100:.2f}%\")\n",
        "# from matplotlib import animation\n",
        "# # Optionally, display the video frames\n",
        "# # Ensure you have the appropriate media display function for showing video\n",
        "# import matplotlib.pyplot as plt\n",
        "\n",
        "# # Function to extract frames from video\n",
        "# def frames_extraction(video_path, num_frames, output_height, output_width, frame_step=15):\n",
        "#     frames = []\n",
        "#     cap = cv2.VideoCapture(video_path)\n",
        "#     video_length = int(cap.get(cv2.CAP_PROP_FRAME_COUNT))\n",
        "\n",
        "#     max_start_frame = max(0, video_length - (num_frames - 1) * frame_step)\n",
        "#     start_frame = random.randint(0, max_start_frame)\n",
        "\n",
        "#     cap.set(cv2.CAP_PROP_POS_FRAMES, start_frame)\n",
        "\n",
        "#     for _ in range(num_frames):\n",
        "#         ret, frame = cap.read()\n",
        "#         if ret:\n",
        "#             frame = cv2.resize(frame, (output_width, output_height))\n",
        "#             frames.append(cv2.cvtColor(frame, cv2.COLOR_BGR2RGB))  # Convert BGR to RGB for displaying with matplotlib\n",
        "#         else:\n",
        "#             frames.append(np.zeros((output_height, output_width, 3)))  # Placeholder if frame is not available\n",
        "#         cap.set(cv2.CAP_PROP_POS_FRAMES, cap.get(cv2.CAP_PROP_POS_FRAMES) + frame_step - 1)\n",
        "\n",
        "#     cap.release()\n",
        "#     return np.array(frames)\n",
        "\n",
        "# # Display the frames using matplotlib\n",
        "# def show_video(frames, fps=3):\n",
        "#     fig, ax = plt.subplots()\n",
        "#     ims = []\n",
        "#     for frame in frames:\n",
        "#         im = ax.imshow(frame, animated=True)\n",
        "#         ims.append([im])\n",
        "#     ani = animation.ArtistAnimation(fig, ims, interval=1000 // fps, blit=True, repeat_delay=1000)\n",
        "\n",
        "#     # Use PillowWriter for smooth display\n",
        "#     ani.save('/content/temp_video.gif', writer='pillow', fps=fps)  # Save animation as GIF\n",
        "#     plt.show()\n",
        "\n",
        "# show_video(frames, fps=3)\n"
      ],
      "metadata": {
        "id": "mDQA_Oy8BSO9"
      },
      "execution_count": 38,
      "outputs": []
    },
    {
      "cell_type": "code",
      "source": [],
      "metadata": {
        "id": "JaOPytWm2hsy"
      },
      "execution_count": null,
      "outputs": []
    }
  ]
}